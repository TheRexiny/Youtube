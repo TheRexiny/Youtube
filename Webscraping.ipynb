{
 "cells": [
  {
   "cell_type": "code",
   "execution_count": 4,
   "metadata": {},
   "outputs": [],
   "source": [
    "from selenium import webdriver\n",
    "from selenium.webdriver.common.by import By\n",
    "from selenium.webdriver.chrome.options import Options"
   ]
  },
  {
   "cell_type": "code",
   "execution_count": 6,
   "metadata": {},
   "outputs": [],
   "source": [
    "# Configura el controlador del navegador (en este caso, Chrome)\n",
    "\n",
    "chrome_options = Options()\n",
    "chrome_options.add_argument(\"--headless\")  # Habilita el modo headless\n",
    "driver = webdriver.Chrome(options=chrome_options)\n",
    "\n",
    "# URL del canal de YouTube\n",
    "url_canal = \"https://www.youtube.com/@carlosbelcast/shorts\"\n",
    "\n",
    "# Abre la página del canal\n",
    "driver.get(url_canal)\n"
   ]
  },
  {
   "cell_type": "code",
   "execution_count": 7,
   "metadata": {},
   "outputs": [],
   "source": [
    "# Encuentra todos los elementos que contienen enlaces a los videos\n",
    "elementos_videos = driver.find_elements(By.CSS_SELECTOR, 'a#thumbnail')\n"
   ]
  },
  {
   "cell_type": "code",
   "execution_count": 8,
   "metadata": {},
   "outputs": [
    {
     "name": "stdout",
     "output_type": "stream",
     "text": [
      "None 50\n",
      "https://www.youtube.com/shorts/mdOM84ZzRj4 50\n",
      "https://www.youtube.com/shorts/WnZRqOwkZ5I 50\n",
      "https://www.youtube.com/shorts/HNGJXJ1QbNI 50\n",
      "https://www.youtube.com/shorts/W0Ee0XnY3b8 50\n",
      "https://www.youtube.com/shorts/cgt0sTBWteY 50\n",
      "https://www.youtube.com/shorts/DwRPs6SZ6d8 50\n",
      "https://www.youtube.com/shorts/wIE58SS1I5g 50\n",
      "https://www.youtube.com/shorts/uBolj078i9Q 50\n",
      "https://www.youtube.com/shorts/IyU31SU5O84 50\n",
      "https://www.youtube.com/shorts/9YTj2hM3tF4 50\n",
      "https://www.youtube.com/shorts/u12zcpDSa_c 50\n",
      "https://www.youtube.com/shorts/W9_5Ywt4Gz4 50\n",
      "https://www.youtube.com/shorts/rHHJaHFM9Jg 50\n",
      "https://www.youtube.com/shorts/pNEsiQidP_E 50\n",
      "https://www.youtube.com/shorts/12GFzvG00K4 50\n",
      "https://www.youtube.com/shorts/okblDAitv7M 50\n",
      "https://www.youtube.com/shorts/0ftITTC3gdo 50\n",
      "https://www.youtube.com/shorts/WmFkkIQu4Ko 50\n",
      "https://www.youtube.com/shorts/6yBV3qseuxY 50\n",
      "https://www.youtube.com/shorts/vSPOSh7z8ws 50\n",
      "https://www.youtube.com/shorts/5oqKICbgb0s 50\n",
      "https://www.youtube.com/shorts/-m2n1H1SWlQ 50\n",
      "https://www.youtube.com/shorts/c5fvN7sglAY 50\n",
      "https://www.youtube.com/shorts/c3QaxMehHUI 50\n",
      "https://www.youtube.com/shorts/Il4RdGJzc94 50\n",
      "https://www.youtube.com/shorts/SB7LMvUZwpg 50\n",
      "https://www.youtube.com/shorts/M93jUIf9w8c 50\n",
      "https://www.youtube.com/shorts/colbY_-Bfqs 50\n",
      "https://www.youtube.com/shorts/sxwjLgfiV9M 50\n",
      "https://www.youtube.com/shorts/rMPh_owAKzo 50\n",
      "https://www.youtube.com/shorts/RafevTZdbVQ 50\n",
      "https://www.youtube.com/shorts/7D1-Y1iK02U 50\n",
      "https://www.youtube.com/shorts/MSynL_z0DUc 50\n",
      "https://www.youtube.com/shorts/dHpWxqu7lJU 50\n",
      "https://www.youtube.com/shorts/HaHKqjZJfdY 50\n",
      "https://www.youtube.com/shorts/_4mhPGvmpv0 50\n",
      "https://www.youtube.com/shorts/RDHtkOS0FYI 50\n",
      "https://www.youtube.com/shorts/CS72Hnht4nU 50\n",
      "https://www.youtube.com/shorts/wdsVKLge-hA 50\n",
      "https://www.youtube.com/shorts/-1IaHFsfwIM 50\n",
      "https://www.youtube.com/shorts/HBsFG8p5llE 50\n",
      "https://www.youtube.com/shorts/CukCAfyF6vA 50\n",
      "https://www.youtube.com/shorts/bW1y69EvsZg 50\n",
      "https://www.youtube.com/shorts/_nt8amCcWeA 50\n",
      "https://www.youtube.com/shorts/A4pnPVsWqxw 50\n",
      "https://www.youtube.com/shorts/mzm4JIJxwJo 50\n",
      "https://www.youtube.com/shorts/eN_bZbYHHiw 50\n",
      "https://www.youtube.com/shorts/zyhz0lQle80 50\n",
      "None 50\n"
     ]
    }
   ],
   "source": [
    "# Extrae los enlaces\n",
    "enlaces_videos = [elemento.get_attribute('href') for elemento in elementos_videos]\n",
    "\n",
    "# Imprime los enlaces\n",
    "for enlace in enlaces_videos:\n",
    "    print(enlace, len(enlaces_videos))\n",
    "    \n",
    "# Cerrar el navegador del drive   \n",
    "driver.quit()"
   ]
  }
 ],
 "metadata": {
  "kernelspec": {
   "display_name": "Python 3",
   "language": "python",
   "name": "python3"
  },
  "language_info": {
   "codemirror_mode": {
    "name": "ipython",
    "version": 3
   },
   "file_extension": ".py",
   "mimetype": "text/x-python",
   "name": "python",
   "nbconvert_exporter": "python",
   "pygments_lexer": "ipython3",
   "version": "3.11.1"
  }
 },
 "nbformat": 4,
 "nbformat_minor": 2
}
